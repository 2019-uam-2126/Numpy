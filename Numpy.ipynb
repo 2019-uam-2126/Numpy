{
 "cells": [
  {
   "cell_type": "code",
   "execution_count": 1,
   "id": "5d49a3b4",
   "metadata": {},
   "outputs": [],
   "source": [
    "import numpy as np"
   ]
  },
  {
   "cell_type": "code",
   "execution_count": 2,
   "id": "3dee3182",
   "metadata": {},
   "outputs": [],
   "source": [
    "a = [5]\n",
    "b = [1 ,2 , 3]\n",
    "c = [[1,2,3],[4,5,6],[7,8,9]]"
   ]
  },
  {
   "cell_type": "code",
   "execution_count": 3,
   "id": "20ec1bec",
   "metadata": {},
   "outputs": [],
   "source": [
    "#list ---> Array Vector\n",
    "vector = np.array(b)"
   ]
  },
  {
   "cell_type": "code",
   "execution_count": 4,
   "id": "28bbe87e",
   "metadata": {},
   "outputs": [
    {
     "data": {
      "text/plain": [
       "array([1, 2, 3])"
      ]
     },
     "execution_count": 4,
     "metadata": {},
     "output_type": "execute_result"
    }
   ],
   "source": [
    "vector"
   ]
  },
  {
   "cell_type": "code",
   "execution_count": 5,
   "id": "bbf9df16",
   "metadata": {},
   "outputs": [],
   "source": [
    "#convert list of list to metrics\n",
    "matrics = np.array(c)"
   ]
  },
  {
   "cell_type": "code",
   "execution_count": 6,
   "id": "fe794cd9",
   "metadata": {},
   "outputs": [
    {
     "data": {
      "text/plain": [
       "array([[1, 2, 3],\n",
       "       [4, 5, 6],\n",
       "       [7, 8, 9]])"
      ]
     },
     "execution_count": 6,
     "metadata": {},
     "output_type": "execute_result"
    }
   ],
   "source": [
    "matrics"
   ]
  },
  {
   "cell_type": "code",
   "execution_count": 7,
   "id": "0a18baf8",
   "metadata": {},
   "outputs": [],
   "source": [
    "#create a array in range like lists\n",
    "x = np.arange(0,10)"
   ]
  },
  {
   "cell_type": "code",
   "execution_count": 8,
   "id": "4113897a",
   "metadata": {},
   "outputs": [
    {
     "data": {
      "text/plain": [
       "array([0, 1, 2, 3, 4, 5, 6, 7, 8, 9])"
      ]
     },
     "execution_count": 8,
     "metadata": {},
     "output_type": "execute_result"
    }
   ],
   "source": [
    "x"
   ]
  },
  {
   "cell_type": "code",
   "execution_count": 12,
   "id": "aa9d7474",
   "metadata": {},
   "outputs": [
    {
     "data": {
      "text/plain": [
       "array([0., 0., 0.])"
      ]
     },
     "execution_count": 12,
     "metadata": {},
     "output_type": "execute_result"
    }
   ],
   "source": [
    "np.zeros(3)"
   ]
  },
  {
   "cell_type": "code",
   "execution_count": 13,
   "id": "df8d9d8e",
   "metadata": {},
   "outputs": [
    {
     "data": {
      "text/plain": [
       "array([1., 1., 1., 1.])"
      ]
     },
     "execution_count": 13,
     "metadata": {},
     "output_type": "execute_result"
    }
   ],
   "source": [
    "np.ones(4)"
   ]
  },
  {
   "cell_type": "code",
   "execution_count": 16,
   "id": "020fcc1f",
   "metadata": {},
   "outputs": [
    {
     "data": {
      "text/plain": [
       "array([[0., 0., 0.],\n",
       "       [0., 0., 0.],\n",
       "       [0., 0., 0.]])"
      ]
     },
     "execution_count": 16,
     "metadata": {},
     "output_type": "execute_result"
    }
   ],
   "source": [
    "np.zeros((3,3))"
   ]
  },
  {
   "cell_type": "code",
   "execution_count": 18,
   "id": "e326dd8b",
   "metadata": {},
   "outputs": [
    {
     "data": {
      "text/plain": [
       "array([[1., 1., 1., 1., 1.],\n",
       "       [1., 1., 1., 1., 1.],\n",
       "       [1., 1., 1., 1., 1.],\n",
       "       [1., 1., 1., 1., 1.]])"
      ]
     },
     "execution_count": 18,
     "metadata": {},
     "output_type": "execute_result"
    }
   ],
   "source": [
    "#Ones metrics\n",
    "np.ones((4,5))"
   ]
  },
  {
   "cell_type": "code",
   "execution_count": 20,
   "id": "a23a8bde",
   "metadata": {},
   "outputs": [
    {
     "data": {
      "text/plain": [
       "array([[1., 0., 0.],\n",
       "       [0., 1., 0.],\n",
       "       [0., 0., 1.]])"
      ]
     },
     "execution_count": 20,
     "metadata": {},
     "output_type": "execute_result"
    }
   ],
   "source": [
    "#for identity matrics\n",
    "np.eye(3,3)"
   ]
  },
  {
   "cell_type": "markdown",
   "id": "c7179546",
   "metadata": {},
   "source": [
    "## Method"
   ]
  },
  {
   "cell_type": "code",
   "execution_count": 21,
   "id": "adc8c792",
   "metadata": {},
   "outputs": [
    {
     "data": {
      "text/plain": [
       "array([0.58338359, 0.35877725, 0.67199727, 0.80264594])"
      ]
     },
     "execution_count": 21,
     "metadata": {},
     "output_type": "execute_result"
    }
   ],
   "source": [
    "np.random.rand(4)"
   ]
  },
  {
   "cell_type": "code",
   "execution_count": 22,
   "id": "20e61098",
   "metadata": {},
   "outputs": [
    {
     "data": {
      "text/plain": [
       "array([[0.00573159, 0.58693535, 0.1864256 , 0.2276766 , 0.5318178 ],\n",
       "       [0.22945723, 0.8123338 , 0.28671544, 0.68779282, 0.45007285],\n",
       "       [0.23437945, 0.54381831, 0.61456958, 0.647892  , 0.49064843],\n",
       "       [0.48391895, 0.37102185, 0.65020593, 0.84843098, 0.97872055]])"
      ]
     },
     "execution_count": 22,
     "metadata": {},
     "output_type": "execute_result"
    }
   ],
   "source": [
    "np.random.rand(4,5)"
   ]
  },
  {
   "cell_type": "code",
   "execution_count": 23,
   "id": "8ef85ef3",
   "metadata": {},
   "outputs": [
    {
     "data": {
      "text/plain": [
       "array([ 0.96946314, -0.67227641,  0.95345403])"
      ]
     },
     "execution_count": 23,
     "metadata": {},
     "output_type": "execute_result"
    }
   ],
   "source": [
    " np.random.randn(3)"
   ]
  },
  {
   "cell_type": "code",
   "execution_count": 24,
   "id": "e4ee482c",
   "metadata": {},
   "outputs": [
    {
     "data": {
      "text/plain": [
       "49"
      ]
     },
     "execution_count": 24,
     "metadata": {},
     "output_type": "execute_result"
    }
   ],
   "source": [
    "np.random.randint(20,100)"
   ]
  },
  {
   "cell_type": "code",
   "execution_count": 25,
   "id": "844b48a9",
   "metadata": {},
   "outputs": [
    {
     "data": {
      "text/plain": [
       "array([84, 91, 88, 94, 21, 48, 65, 97, 41, 81, 42, 10, 87, 58, 91])"
      ]
     },
     "execution_count": 25,
     "metadata": {},
     "output_type": "execute_result"
    }
   ],
   "source": [
    "np.random.randint(10,100,15)"
   ]
  },
  {
   "cell_type": "code",
   "execution_count": 26,
   "id": "190b1670",
   "metadata": {},
   "outputs": [],
   "source": [
    "random_arr = np.random.randint(0,50,10)"
   ]
  },
  {
   "cell_type": "code",
   "execution_count": 27,
   "id": "1a671ff9",
   "metadata": {},
   "outputs": [
    {
     "data": {
      "text/plain": [
       "array([19, 49, 49,  3, 10, 38, 40, 19, 24, 35])"
      ]
     },
     "execution_count": 27,
     "metadata": {},
     "output_type": "execute_result"
    }
   ],
   "source": [
    "random_arr"
   ]
  },
  {
   "cell_type": "code",
   "execution_count": 28,
   "id": "d728b8f9",
   "metadata": {},
   "outputs": [
    {
     "data": {
      "text/plain": [
       "array([[19, 49, 49,  3, 10],\n",
       "       [38, 40, 19, 24, 35]])"
      ]
     },
     "execution_count": 28,
     "metadata": {},
     "output_type": "execute_result"
    }
   ],
   "source": [
    "# 1D ---> 2D\n",
    "random_arr.reshape(2,5)"
   ]
  },
  {
   "cell_type": "code",
   "execution_count": 29,
   "id": "95ae02e5",
   "metadata": {},
   "outputs": [
    {
     "data": {
      "text/plain": [
       "49"
      ]
     },
     "execution_count": 29,
     "metadata": {},
     "output_type": "execute_result"
    }
   ],
   "source": [
    "#for max number\n",
    "random_arr.max()"
   ]
  },
  {
   "cell_type": "code",
   "execution_count": 30,
   "id": "85d840a3",
   "metadata": {},
   "outputs": [
    {
     "data": {
      "text/plain": [
       "3"
      ]
     },
     "execution_count": 30,
     "metadata": {},
     "output_type": "execute_result"
    }
   ],
   "source": [
    "#for min number\n",
    "random_arr.min()"
   ]
  },
  {
   "cell_type": "code",
   "execution_count": 31,
   "id": "299f9859",
   "metadata": {},
   "outputs": [
    {
     "data": {
      "text/plain": [
       "1"
      ]
     },
     "execution_count": 31,
     "metadata": {},
     "output_type": "execute_result"
    }
   ],
   "source": [
    "#give index\n",
    "random_arr.argmax()"
   ]
  },
  {
   "cell_type": "code",
   "execution_count": 32,
   "id": "36fe5f89",
   "metadata": {},
   "outputs": [
    {
     "data": {
      "text/plain": [
       "3"
      ]
     },
     "execution_count": 32,
     "metadata": {},
     "output_type": "execute_result"
    }
   ],
   "source": [
    "#give index\n",
    "random_arr.argmin()"
   ]
  },
  {
   "cell_type": "code",
   "execution_count": 33,
   "id": "9588cc56",
   "metadata": {},
   "outputs": [
    {
     "data": {
      "text/plain": [
       "(10,)"
      ]
     },
     "execution_count": 33,
     "metadata": {},
     "output_type": "execute_result"
    }
   ],
   "source": [
    "#shape check of array\n",
    "random_arr.shape"
   ]
  },
  {
   "cell_type": "code",
   "execution_count": 34,
   "id": "bea74973",
   "metadata": {},
   "outputs": [],
   "source": [
    "from numpy.random import randint "
   ]
  },
  {
   "cell_type": "code",
   "execution_count": 35,
   "id": "4397069f",
   "metadata": {},
   "outputs": [
    {
     "data": {
      "text/plain": [
       "10"
      ]
     },
     "execution_count": 35,
     "metadata": {},
     "output_type": "execute_result"
    }
   ],
   "source": [
    "randint(6,17)"
   ]
  },
  {
   "cell_type": "code",
   "execution_count": 43,
   "id": "0105c7a0",
   "metadata": {},
   "outputs": [
    {
     "name": "stdout",
     "output_type": "stream",
     "text": [
      "[1 2 3 4 5]\n"
     ]
    }
   ],
   "source": [
    "arr = np.array([1, 2, 3, 4, 5])\n",
    "print(arr)"
   ]
  },
  {
   "cell_type": "code",
   "execution_count": 46,
   "id": "e30c122b",
   "metadata": {},
   "outputs": [
    {
     "name": "stdout",
     "output_type": "stream",
     "text": [
      "[[1. 1. 1.]\n",
      " [1. 1. 1.]\n",
      " [0. 0. 0.]\n",
      " [0. 0. 0.]]\n"
     ]
    }
   ],
   "source": [
    "ones_arr = np.ones((2, 3))\n",
    "zeros_arr = np.zeros((2, 3))\n",
    "\n",
    "concatenated_arr = np.concatenate((ones_arr, zeros_arr), axis=0)\n",
    "print(concatenated_arr)"
   ]
  },
  {
   "cell_type": "markdown",
   "id": "36035cfa",
   "metadata": {},
   "source": [
    "## 1D Array"
   ]
  },
  {
   "cell_type": "code",
   "execution_count": 73,
   "id": "17bba5db",
   "metadata": {},
   "outputs": [],
   "source": [
    "arr_1D = np.arange(1,11)"
   ]
  },
  {
   "cell_type": "code",
   "execution_count": 59,
   "id": "9ae98c9c",
   "metadata": {},
   "outputs": [
    {
     "data": {
      "text/plain": [
       "array([ 1,  2,  3,  4,  5,  6,  7,  8,  9, 10])"
      ]
     },
     "execution_count": 59,
     "metadata": {},
     "output_type": "execute_result"
    }
   ],
   "source": [
    "arr_1D"
   ]
  },
  {
   "cell_type": "code",
   "execution_count": 60,
   "id": "bd511c04",
   "metadata": {},
   "outputs": [
    {
     "data": {
      "text/plain": [
       "array([ 1,  2,  3,  4,  5,  6,  7,  8,  9, 10])"
      ]
     },
     "execution_count": 60,
     "metadata": {},
     "output_type": "execute_result"
    }
   ],
   "source": [
    "arr_1D[:]"
   ]
  },
  {
   "cell_type": "code",
   "execution_count": 61,
   "id": "23efa02b",
   "metadata": {},
   "outputs": [
    {
     "data": {
      "text/plain": [
       "array([ 6,  7,  8,  9, 10])"
      ]
     },
     "execution_count": 61,
     "metadata": {},
     "output_type": "execute_result"
    }
   ],
   "source": [
    "arr_1D[5:]"
   ]
  },
  {
   "cell_type": "code",
   "execution_count": 62,
   "id": "ecfd6be9",
   "metadata": {},
   "outputs": [],
   "source": [
    "#broadcasting \n",
    "arr_1D[7:] = 20"
   ]
  },
  {
   "cell_type": "code",
   "execution_count": 63,
   "id": "2d815c85",
   "metadata": {},
   "outputs": [
    {
     "data": {
      "text/plain": [
       "array([ 1,  2,  3,  4,  5,  6,  7, 20, 20, 20])"
      ]
     },
     "execution_count": 63,
     "metadata": {},
     "output_type": "execute_result"
    }
   ],
   "source": [
    "arr_1D"
   ]
  },
  {
   "cell_type": "code",
   "execution_count": 70,
   "id": "cfeca42d",
   "metadata": {},
   "outputs": [
    {
     "data": {
      "text/plain": [
       "array([20, 20, 20,  7,  6,  5,  4,  3,  2,  1])"
      ]
     },
     "execution_count": 70,
     "metadata": {},
     "output_type": "execute_result"
    }
   ],
   "source": [
    "arr_1D[::-1]"
   ]
  },
  {
   "cell_type": "code",
   "execution_count": 72,
   "id": "ab937db1",
   "metadata": {
    "scrolled": true
   },
   "outputs": [
    {
     "data": {
      "text/plain": [
       "array([3, 2, 1])"
      ]
     },
     "execution_count": 72,
     "metadata": {},
     "output_type": "execute_result"
    }
   ],
   "source": [
    "arr_1D[2::-1]"
   ]
  },
  {
   "cell_type": "code",
   "execution_count": 74,
   "id": "23026443",
   "metadata": {},
   "outputs": [],
   "source": [
    "arr_1D_COPY = arr_1D.copy()"
   ]
  },
  {
   "cell_type": "code",
   "execution_count": 75,
   "id": "ee116120",
   "metadata": {},
   "outputs": [
    {
     "data": {
      "text/plain": [
       "array([ 1,  2,  3,  4,  5,  6,  7,  8,  9, 10])"
      ]
     },
     "execution_count": 75,
     "metadata": {},
     "output_type": "execute_result"
    }
   ],
   "source": [
    "arr_1D_COPY"
   ]
  },
  {
   "cell_type": "markdown",
   "id": "a5ca76fc",
   "metadata": {},
   "source": [
    "## 2D Array"
   ]
  },
  {
   "cell_type": "code",
   "execution_count": 36,
   "id": "a95d8197",
   "metadata": {},
   "outputs": [],
   "source": [
    "array2d = np.array([[1,2,3],[4,5,6],[7,8,9]])"
   ]
  },
  {
   "cell_type": "code",
   "execution_count": 37,
   "id": "41717899",
   "metadata": {},
   "outputs": [
    {
     "data": {
      "text/plain": [
       "array([[1, 2, 3],\n",
       "       [4, 5, 6],\n",
       "       [7, 8, 9]])"
      ]
     },
     "execution_count": 37,
     "metadata": {},
     "output_type": "execute_result"
    }
   ],
   "source": [
    "array2d"
   ]
  },
  {
   "cell_type": "code",
   "execution_count": 39,
   "id": "836dab64",
   "metadata": {},
   "outputs": [
    {
     "data": {
      "text/plain": [
       "9"
      ]
     },
     "execution_count": 39,
     "metadata": {},
     "output_type": "execute_result"
    }
   ],
   "source": [
    "#Slicing   ----->>> Index start from 0 that's why 2 mean 3rd row 3rd column\n",
    "array2d[2][2]"
   ]
  },
  {
   "cell_type": "code",
   "execution_count": 40,
   "id": "38714732",
   "metadata": {},
   "outputs": [
    {
     "data": {
      "text/plain": [
       "array([4, 5, 6])"
      ]
     },
     "execution_count": 40,
     "metadata": {},
     "output_type": "execute_result"
    }
   ],
   "source": [
    "array2d[1]"
   ]
  },
  {
   "cell_type": "code",
   "execution_count": 41,
   "id": "f51f5f06",
   "metadata": {},
   "outputs": [
    {
     "data": {
      "text/plain": [
       "array([[2, 3],\n",
       "       [5, 6]])"
      ]
     },
     "execution_count": 41,
     "metadata": {},
     "output_type": "execute_result"
    }
   ],
   "source": [
    "array2d[:2,1:]"
   ]
  },
  {
   "cell_type": "code",
   "execution_count": 42,
   "id": "603b200a",
   "metadata": {},
   "outputs": [
    {
     "data": {
      "text/plain": [
       "array([[1, 2, 3],\n",
       "       [4, 5, 6]])"
      ]
     },
     "execution_count": 42,
     "metadata": {},
     "output_type": "execute_result"
    }
   ],
   "source": [
    "array2d[:2,:]"
   ]
  },
  {
   "cell_type": "code",
   "execution_count": 47,
   "id": "89218bfc",
   "metadata": {},
   "outputs": [],
   "source": [
    "arr1 = np.arange(1,10)"
   ]
  },
  {
   "cell_type": "code",
   "execution_count": 48,
   "id": "81b6ee84",
   "metadata": {},
   "outputs": [
    {
     "data": {
      "text/plain": [
       "array([1, 2, 3, 4, 5, 6, 7, 8, 9])"
      ]
     },
     "execution_count": 48,
     "metadata": {},
     "output_type": "execute_result"
    }
   ],
   "source": [
    "\n",
    "arr1"
   ]
  },
  {
   "cell_type": "code",
   "execution_count": 49,
   "id": "52f36e35",
   "metadata": {},
   "outputs": [],
   "source": [
    "#boolean array\n",
    "cond_arr = arr1>5"
   ]
  },
  {
   "cell_type": "code",
   "execution_count": 50,
   "id": "693b005d",
   "metadata": {},
   "outputs": [
    {
     "data": {
      "text/plain": [
       "array([False, False, False, False, False,  True,  True,  True,  True])"
      ]
     },
     "execution_count": 50,
     "metadata": {},
     "output_type": "execute_result"
    }
   ],
   "source": [
    "cond_arr"
   ]
  },
  {
   "cell_type": "code",
   "execution_count": 52,
   "id": "842eec23",
   "metadata": {},
   "outputs": [
    {
     "data": {
      "text/plain": [
       "array([6, 7, 8, 9])"
      ]
     },
     "execution_count": 52,
     "metadata": {},
     "output_type": "execute_result"
    }
   ],
   "source": [
    "arr1[cond_arr]"
   ]
  },
  {
   "cell_type": "code",
   "execution_count": 53,
   "id": "4c3b9015",
   "metadata": {},
   "outputs": [],
   "source": [
    "arr_2d = np.arange(50).reshape(5,10)"
   ]
  },
  {
   "cell_type": "code",
   "execution_count": 54,
   "id": "c3488f62",
   "metadata": {},
   "outputs": [
    {
     "data": {
      "text/plain": [
       "array([[ 0,  1,  2,  3,  4,  5,  6,  7,  8,  9],\n",
       "       [10, 11, 12, 13, 14, 15, 16, 17, 18, 19],\n",
       "       [20, 21, 22, 23, 24, 25, 26, 27, 28, 29],\n",
       "       [30, 31, 32, 33, 34, 35, 36, 37, 38, 39],\n",
       "       [40, 41, 42, 43, 44, 45, 46, 47, 48, 49]])"
      ]
     },
     "execution_count": 54,
     "metadata": {},
     "output_type": "execute_result"
    }
   ],
   "source": [
    "arr_2d"
   ]
  },
  {
   "cell_type": "code",
   "execution_count": 55,
   "id": "558df09f",
   "metadata": {},
   "outputs": [
    {
     "data": {
      "text/plain": [
       "array([[33, 34, 35, 36, 37, 38, 39],\n",
       "       [43, 44, 45, 46, 47, 48, 49]])"
      ]
     },
     "execution_count": 55,
     "metadata": {},
     "output_type": "execute_result"
    }
   ],
   "source": [
    "arr_2d[3:5,3:]"
   ]
  },
  {
   "cell_type": "markdown",
   "id": "5bd3d8af",
   "metadata": {},
   "source": [
    "## Numpy Operation"
   ]
  },
  {
   "cell_type": "code",
   "execution_count": 76,
   "id": "a9cad337",
   "metadata": {},
   "outputs": [],
   "source": [
    "arr3 = np.arange(1,11)"
   ]
  },
  {
   "cell_type": "code",
   "execution_count": 77,
   "id": "71a2add7",
   "metadata": {},
   "outputs": [
    {
     "data": {
      "text/plain": [
       "array([ 1,  2,  3,  4,  5,  6,  7,  8,  9, 10])"
      ]
     },
     "execution_count": 77,
     "metadata": {},
     "output_type": "execute_result"
    }
   ],
   "source": [
    "arr3"
   ]
  },
  {
   "cell_type": "code",
   "execution_count": 78,
   "id": "21e8c1a9",
   "metadata": {},
   "outputs": [
    {
     "name": "stdout",
     "output_type": "stream",
     "text": [
      "55\n",
      "5.5\n",
      "5.5\n",
      "2.8722813232690143\n",
      "1\n",
      "10\n"
     ]
    }
   ],
   "source": [
    "print(np.sum(arr3))   \n",
    "print(np.mean(arr3)) # mean\n",
    "print(np.median(arr3)) # median\n",
    "print(np.std(arr3)) # Standard deviation\n",
    "print(np.min(arr3)) # Minimum Number\n",
    "print(np.max(arr3))  # Maximum Number"
   ]
  },
  {
   "cell_type": "code",
   "execution_count": 79,
   "id": "092d22b6",
   "metadata": {},
   "outputs": [],
   "source": [
    "arr3_add = arr3 + arr3"
   ]
  },
  {
   "cell_type": "code",
   "execution_count": 80,
   "id": "052ea583",
   "metadata": {},
   "outputs": [
    {
     "data": {
      "text/plain": [
       "array([ 2,  4,  6,  8, 10, 12, 14, 16, 18, 20])"
      ]
     },
     "execution_count": 80,
     "metadata": {},
     "output_type": "execute_result"
    }
   ],
   "source": [
    "arr3_add"
   ]
  },
  {
   "cell_type": "code",
   "execution_count": 81,
   "id": "7e5fd3e0",
   "metadata": {},
   "outputs": [],
   "source": [
    "subtract = arr3 - arr3"
   ]
  },
  {
   "cell_type": "code",
   "execution_count": 82,
   "id": "2885f60f",
   "metadata": {},
   "outputs": [
    {
     "data": {
      "text/plain": [
       "array([0, 0, 0, 0, 0, 0, 0, 0, 0, 0])"
      ]
     },
     "execution_count": 82,
     "metadata": {},
     "output_type": "execute_result"
    }
   ],
   "source": [
    "subtract"
   ]
  },
  {
   "cell_type": "code",
   "execution_count": 83,
   "id": "6297de88",
   "metadata": {},
   "outputs": [],
   "source": [
    "scalar = arr3 *100"
   ]
  },
  {
   "cell_type": "code",
   "execution_count": 84,
   "id": "99b6c46e",
   "metadata": {},
   "outputs": [
    {
     "data": {
      "text/plain": [
       "array([ 100,  200,  300,  400,  500,  600,  700,  800,  900, 1000])"
      ]
     },
     "execution_count": 84,
     "metadata": {},
     "output_type": "execute_result"
    }
   ],
   "source": [
    "scalar"
   ]
  },
  {
   "cell_type": "code",
   "execution_count": 85,
   "id": "b514304b",
   "metadata": {},
   "outputs": [],
   "source": [
    "multiply = arr3 *arr3"
   ]
  },
  {
   "cell_type": "code",
   "execution_count": 86,
   "id": "40dde558",
   "metadata": {},
   "outputs": [
    {
     "data": {
      "text/plain": [
       "array([  1,   4,   9,  16,  25,  36,  49,  64,  81, 100])"
      ]
     },
     "execution_count": 86,
     "metadata": {},
     "output_type": "execute_result"
    }
   ],
   "source": [
    "multiply"
   ]
  },
  {
   "cell_type": "code",
   "execution_count": 90,
   "id": "dc7d635f",
   "metadata": {},
   "outputs": [],
   "source": [
    "arr4 = np.array([[5,6,7],[0,9,8]])"
   ]
  },
  {
   "cell_type": "code",
   "execution_count": 91,
   "id": "dce8d0f6",
   "metadata": {},
   "outputs": [],
   "source": [
    "transpose_arr = np.transpose(arr4)"
   ]
  },
  {
   "cell_type": "code",
   "execution_count": 92,
   "id": "c3057a4a",
   "metadata": {},
   "outputs": [
    {
     "data": {
      "text/plain": [
       "array([[5, 0],\n",
       "       [6, 9],\n",
       "       [7, 8]])"
      ]
     },
     "execution_count": 92,
     "metadata": {},
     "output_type": "execute_result"
    }
   ],
   "source": [
    "transpose_arr"
   ]
  },
  {
   "cell_type": "code",
   "execution_count": 93,
   "id": "369ebee9",
   "metadata": {},
   "outputs": [
    {
     "name": "stdout",
     "output_type": "stream",
     "text": [
      "[[ 25  30  35]\n",
      " [ 30 117 114]\n",
      " [ 35 114 113]]\n"
     ]
    }
   ],
   "source": [
    "dot_product = np.dot(transpose_arr, arr4)\n",
    "print(dot_product)"
   ]
  },
  {
   "cell_type": "code",
   "execution_count": 94,
   "id": "44caf8bb",
   "metadata": {},
   "outputs": [],
   "source": [
    "#Exponential function\n",
    "exp_arr = np.exp(arr4)"
   ]
  },
  {
   "cell_type": "code",
   "execution_count": 95,
   "id": "bc63196f",
   "metadata": {},
   "outputs": [
    {
     "data": {
      "text/plain": [
       "array([[1.48413159e+02, 4.03428793e+02, 1.09663316e+03],\n",
       "       [1.00000000e+00, 8.10308393e+03, 2.98095799e+03]])"
      ]
     },
     "execution_count": 95,
     "metadata": {},
     "output_type": "execute_result"
    }
   ],
   "source": [
    "exp_arr"
   ]
  },
  {
   "cell_type": "code",
   "execution_count": 96,
   "id": "e018ee86",
   "metadata": {},
   "outputs": [],
   "source": [
    "arr_to_sort = np.array([3, 1, 4, 2, 5])\n",
    "sorted_arr = np.sort(arr_to_sort)"
   ]
  },
  {
   "cell_type": "code",
   "execution_count": 97,
   "id": "e50ba7c4",
   "metadata": {},
   "outputs": [
    {
     "data": {
      "text/plain": [
       "array([1, 2, 3, 4, 5])"
      ]
     },
     "execution_count": 97,
     "metadata": {},
     "output_type": "execute_result"
    }
   ],
   "source": [
    "sorted_arr"
   ]
  },
  {
   "cell_type": "code",
   "execution_count": 98,
   "id": "f3e4ed30",
   "metadata": {},
   "outputs": [
    {
     "name": "stdout",
     "output_type": "stream",
     "text": [
      "[1 2 2]\n",
      "[0 2 4 6]\n"
     ]
    }
   ],
   "source": [
    "# Statistical Functions\n",
    "hist, bin_edges = np.histogram(arr_to_sort, bins=[0, 2, 4, 6])\n",
    "print(hist)\n",
    "print(bin_edges)"
   ]
  },
  {
   "cell_type": "code",
   "execution_count": 100,
   "id": "ed70d871",
   "metadata": {},
   "outputs": [
    {
     "name": "stdout",
     "output_type": "stream",
     "text": [
      "Correlation Coefficient: 1.0\n"
     ]
    }
   ],
   "source": [
    "# Correlation Coefficient\n",
    "data = np.array([10, 20, 30, 40, 50])\n",
    "data2 = np.array([20, 30, 40, 50, 60])\n",
    "correlation_coefficient = np.corrcoef(data, data2)[0, 1]\n",
    "print(\"Correlation Coefficient:\", correlation_coefficient)"
   ]
  },
  {
   "cell_type": "code",
   "execution_count": 101,
   "id": "158aa03c",
   "metadata": {},
   "outputs": [
    {
     "name": "stdout",
     "output_type": "stream",
     "text": [
      "Covariance Matrix: [[250. 250.]\n",
      " [250. 250.]]\n"
     ]
    }
   ],
   "source": [
    "# Covariance Matrix\n",
    "cov_matrix = np.cov(data, data2)\n",
    "print(\"Covariance Matrix:\", cov_matrix)"
   ]
  },
  {
   "cell_type": "code",
   "execution_count": 102,
   "id": "194f5c35",
   "metadata": {},
   "outputs": [],
   "source": [
    "log_arr = np.log(arr3)"
   ]
  },
  {
   "cell_type": "code",
   "execution_count": 103,
   "id": "f389cd80",
   "metadata": {},
   "outputs": [
    {
     "data": {
      "text/plain": [
       "array([0.        , 0.69314718, 1.09861229, 1.38629436, 1.60943791,\n",
       "       1.79175947, 1.94591015, 2.07944154, 2.19722458, 2.30258509])"
      ]
     },
     "execution_count": 103,
     "metadata": {},
     "output_type": "execute_result"
    }
   ],
   "source": [
    "log_arr"
   ]
  },
  {
   "cell_type": "code",
   "execution_count": 104,
   "id": "4406878e",
   "metadata": {},
   "outputs": [
    {
     "data": {
      "text/plain": [
       "array([ 0.84147098,  0.90929743,  0.14112001, -0.7568025 , -0.95892427,\n",
       "       -0.2794155 ,  0.6569866 ,  0.98935825,  0.41211849, -0.54402111])"
      ]
     },
     "execution_count": 104,
     "metadata": {},
     "output_type": "execute_result"
    }
   ],
   "source": [
    "sin_arr = np.sin(arr3)\n",
    "sin_arr"
   ]
  },
  {
   "cell_type": "code",
   "execution_count": 105,
   "id": "0d185e57",
   "metadata": {},
   "outputs": [],
   "source": [
    "tan_arr = np.tan(arr3)"
   ]
  },
  {
   "cell_type": "code",
   "execution_count": 106,
   "id": "08f0c680",
   "metadata": {},
   "outputs": [
    {
     "data": {
      "text/plain": [
       "array([ 1.55740772, -2.18503986, -0.14254654,  1.15782128, -3.38051501,\n",
       "       -0.29100619,  0.87144798, -6.79971146, -0.45231566,  0.64836083])"
      ]
     },
     "execution_count": 106,
     "metadata": {},
     "output_type": "execute_result"
    }
   ],
   "source": [
    "tan_arr"
   ]
  },
  {
   "cell_type": "code",
   "execution_count": null,
   "id": "b44a1dcf",
   "metadata": {},
   "outputs": [],
   "source": []
  }
 ],
 "metadata": {
  "kernelspec": {
   "display_name": "Python 3 (ipykernel)",
   "language": "python",
   "name": "python3"
  },
  "language_info": {
   "codemirror_mode": {
    "name": "ipython",
    "version": 3
   },
   "file_extension": ".py",
   "mimetype": "text/x-python",
   "name": "python",
   "nbconvert_exporter": "python",
   "pygments_lexer": "ipython3",
   "version": "3.10.6"
  }
 },
 "nbformat": 4,
 "nbformat_minor": 5
}
